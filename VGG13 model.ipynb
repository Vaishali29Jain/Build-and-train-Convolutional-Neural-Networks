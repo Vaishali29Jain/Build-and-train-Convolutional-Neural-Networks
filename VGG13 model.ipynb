{
 "cells": [
  {
   "cell_type": "markdown",
   "id": "1aeb611f",
   "metadata": {},
   "source": [
    "# Building and training VGG13"
   ]
  },
  {
   "cell_type": "markdown",
   "id": "a776f5fd",
   "metadata": {},
   "source": [
    "### Import libraries"
   ]
  },
  {
   "cell_type": "code",
   "execution_count": 1,
   "id": "7a10d59b",
   "metadata": {},
   "outputs": [],
   "source": [
    "import torch\n",
    "import torch.nn as nn\n",
    "import torch.optim as optim\n",
    "import torchvision\n",
    "import torchvision.transforms.functional as F\n",
    "from torchvision.datasets import ImageFolder\n",
    "from torchvision import transforms\n"
   ]
  },
  {
   "cell_type": "markdown",
   "id": "23482707",
   "metadata": {},
   "source": [
    "###  Load, preprocess, analyze the dataset and make it ready for training"
   ]
  },
  {
   "cell_type": "code",
   "execution_count": 2,
   "id": "6022a1c4",
   "metadata": {},
   "outputs": [],
   "source": [
    "# Define transforms for dataset\n",
    "transform = transforms.Compose(\n",
    "    [transforms.Resize(256),\n",
    "     transforms.CenterCrop(224),\n",
    "     transforms.ToTensor()])\n",
    "\n",
    "# Load the dataset\n",
    "traindata = ImageFolder(root='./cnn_dataset', transform=None)\n",
    "\n",
    "# Compute the mean and standard deviation values for your dataset\n",
    "mean = torch.zeros(3)\n",
    "std = torch.zeros(3)\n",
    "for img, _ in traindata:\n",
    "    img = F.to_tensor(img)\n",
    "    mean += img.mean(dim=(1, 2))\n",
    "    std += img.std(dim=(1, 2))\n",
    "\n",
    "mean /= len(traindata)\n",
    "std /= len(traindata)\n",
    "\n",
    "\n",
    "# Normalize the dataset\n",
    "normalize = transforms.Normalize(mean=mean, std=std)\n",
    "traindata = ImageFolder(root='./cnn_dataset', transform=transforms.Compose([\n",
    "    transform,\n",
    "    normalize,\n",
    "]))\n",
    "\n",
    "# Split the dataset into train and validation sets\n",
    "trainsize = int(0.8 * len(traindata))\n",
    "testsize = len(traindata) - trainsize\n",
    "traindata, testdata = torch.utils.data.random_split(traindata, [trainsize, testsize])\n",
    "\n",
    "# Create dataloaders\n",
    "train_loader = torch.utils.data.DataLoader(traindata, batch_size=64, shuffle=True)\n",
    "test_loader = torch.utils.data.DataLoader(testdata, batch_size=64, shuffle=False)\n"
   ]
  },
  {
   "cell_type": "markdown",
   "id": "7e127494",
   "metadata": {},
   "source": [
    "### Implement VGG-13 model"
   ]
  },
  {
   "cell_type": "code",
   "execution_count": 3,
   "id": "ba3ef916",
   "metadata": {},
   "outputs": [],
   "source": [
    "class VGG13(nn.Module):\n",
    "    def __init__(self,num_classes):\n",
    "        super(VGG13, self).__init__()\n",
    "        self.features = nn.Sequential(\n",
    "            nn.Conv2d(3, 64, kernel_size=3, padding=1),\n",
    "            nn.ReLU(inplace=True),\n",
    "            nn.Conv2d(64, 64, kernel_size=3, padding=1),\n",
    "            nn.ReLU(inplace=True),\n",
    "            nn.MaxPool2d(kernel_size=2, stride=2),\n",
    "            nn.Conv2d(64, 128, kernel_size=3, padding=1),\n",
    "            nn.ReLU(inplace=True),\n",
    "            nn.Conv2d(128, 128, kernel_size=3, padding=1),\n",
    "            nn.ReLU(inplace=True),\n",
    "            nn.MaxPool2d(kernel_size=2, stride=2),\n",
    "            nn.Conv2d(128, 256, kernel_size=3, padding=1),\n",
    "            nn.ReLU(inplace=True),\n",
    "            nn.Conv2d(256, 256, kernel_size=3, padding=1),\n",
    "            nn.ReLU(inplace=True),\n",
    "            nn.Conv2d(256, 256, kernel_size=3, padding=1),\n",
    "            nn.ReLU(inplace=True),\n",
    "            nn.MaxPool2d(kernel_size=2, stride=2),\n",
    "            nn.Conv2d(256, 512, kernel_size=3, padding=1),\n",
    "            nn.ReLU(inplace=True),\n",
    "            nn.Conv2d(512, 512, kernel_size=3, padding=1),\n",
    "            nn.ReLU(inplace=True),\n",
    "            nn.Conv2d(512, 512, kernel_size=3, padding=1),\n",
    "            nn.ReLU(inplace=True),\n",
    "            nn.MaxPool2d(kernel_size=2, stride=2),\n",
    "            nn.Conv2d(512, 512, kernel_size=3, padding=1),\n",
    "            nn.ReLU(inplace=True),\n",
    "            nn.Conv2d(512, 512, kernel_size=3, padding=1),\n",
    "            nn.ReLU(inplace=True),\n",
    "            nn.Conv2d(512, 512, kernel_size=3, padding=1),\n",
    "            nn.ReLU(inplace=True),\n",
    "            nn.MaxPool2d(kernel_size=2, stride=2),\n",
    "        )\n",
    "        self.avgpool = nn.AdaptiveAvgPool2d((7, 7))\n",
    "        self.classifier = nn.Sequential(\n",
    "            nn.Linear(512 * 7 * 7, 4096),\n",
    "            nn.ReLU(inplace=True),\n",
    "            nn.Dropout(),\n",
    "            nn.Linear(4096, 4096),\n",
    "            nn.ReLU(inplace=True),\n",
    "            nn.Dropout(),\n",
    "            nn.Linear(4096, 3),\n",
    "        )\n",
    "\n",
    "    def forward(self, x):\n",
    "        x = self.features(x)\n",
    "        x = self.avgpool(x)\n",
    "        x = torch.flatten(x, 1)\n",
    "        x = self.classifier(x)\n",
    "        return x\n"
   ]
  },
  {
   "cell_type": "markdown",
   "id": "172ab09c",
   "metadata": {},
   "source": [
    "### Training the VGG13 model"
   ]
  },
  {
   "cell_type": "code",
   "execution_count": 4,
   "id": "8670496a",
   "metadata": {},
   "outputs": [
    {
     "name": "stdout",
     "output_type": "stream",
     "text": [
      "Device: cpu\n",
      "Epoch 1 -- Training Loss: 1.0987, Training Accuracy: 0.3326, Test Loss: 1.0987, Test Accuracy: 0.3262,  epo_time: 267.520 mins\n",
      "Epoch 2 -- Training Loss: 1.0987, Training Accuracy: 0.3326, Test Loss: 1.0987, Test Accuracy: 0.3262,  epo_time: 249.843 mins\n"
     ]
    }
   ],
   "source": [
    "import torch.optim as optim\n",
    "import time\n",
    "\n",
    "# Define the model\n",
    "net = VGG13(num_classes=3)\n",
    "\n",
    "# Define the loss function and optimizer\n",
    "criterion = nn.CrossEntropyLoss()\n",
    "optimizer = optim.SGD(net.parameters(), lr=0.001, momentum=0.9)\n",
    "\n",
    "# Train the model\n",
    "device = torch.device(\"cuda:0\" if torch.cuda.is_available() else \"cpu\")\n",
    "net.to(device)\n",
    "print('Device:', device)\n",
    "\n",
    "train_losses = []\n",
    "train_accs = []\n",
    "test_losses = []\n",
    "test_accs = []\n",
    "training_time_list = []\n",
    "\n",
    "for epoch in range(2):\n",
    "    start_time = time.time()\n",
    "    train_loss = 0.0\n",
    "    train_correct = 0\n",
    "    train_total = 0\n",
    "    test_loss = 0.0\n",
    "    test_correct = 0\n",
    "    test_total = 0  \n",
    "    \n",
    "    # Train the model\n",
    "    net.train()\n",
    "    for i, (inputs, labels) in enumerate(train_loader, 0):\n",
    "        inputs, labels = inputs.to(device), labels.to(device)\n",
    "        optimizer.zero_grad()\n",
    "        outputs = net(inputs)\n",
    "        loss = criterion(outputs, labels)\n",
    "        loss.backward()\n",
    "        optimizer.step()\n",
    "        train_loss += loss.item()\n",
    "        _, predicted = torch.max(outputs.data, 1)\n",
    "        train_total += labels.size(0)\n",
    "        train_correct += (predicted == labels).sum().item()\n",
    "        \n",
    "    # Evaluate the model on the testing data\n",
    "    net.eval()\n",
    "    with torch.no_grad():\n",
    "        for inputs, labels in test_loader:\n",
    "            inputs, labels = inputs.to(device), labels.to(device)\n",
    "            outputs = net(inputs)\n",
    "            loss = criterion(outputs, labels)\n",
    "            test_loss += loss.item()\n",
    "            _, predicted = torch.max(outputs.data, 1)\n",
    "            test_total += labels.size(0)\n",
    "            test_correct += (predicted == labels).sum().item()\n",
    "    epo_time = time.time() - start_time\n",
    "    # Save the training and test loss and accuracy for this epoch\n",
    "    train_losses.append(train_loss / len(train_loader))\n",
    "    train_accs.append(train_correct / train_total)\n",
    "    test_losses.append(test_loss / len(test_loader))\n",
    "    test_accs.append(test_correct / test_total)\n",
    "    training_time_list.append(epo_time)\n",
    "    # Print the results for this epoch\n",
    "    print(f\"Epoch {epoch+1} -- Training Loss: {train_losses[-1]:.4f}, \"\n",
    "          f\"Training Accuracy: {train_accs[-1]:.4f}, Test Loss: {test_losses[-1]:.4f}, \"\n",
    "          f\"Test Accuracy: {test_accs[-1]:.4f},  epo_time: {(epo_time/60):.3f} mins\")\n",
    "\n",
    "\n"
   ]
  },
  {
   "cell_type": "markdown",
   "id": "237dcf7e",
   "metadata": {},
   "source": [
    "### The model is trained for 2 epochs. Each epoch ran for 4 hours."
   ]
  },
  {
   "cell_type": "code",
   "execution_count": null,
   "id": "b22ca72e",
   "metadata": {
    "collapsed": true
   },
   "outputs": [],
   "source": []
  }
 ],
 "metadata": {
  "kernelspec": {
   "display_name": "Python 3 (ipykernel)",
   "language": "python",
   "name": "python3"
  },
  "language_info": {
   "codemirror_mode": {
    "name": "ipython",
    "version": 3
   },
   "file_extension": ".py",
   "mimetype": "text/x-python",
   "name": "python",
   "nbconvert_exporter": "python",
   "pygments_lexer": "ipython3",
   "version": "3.9.13"
  }
 },
 "nbformat": 4,
 "nbformat_minor": 5
}
